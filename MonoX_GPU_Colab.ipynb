"""
MonoX GPU Training - Colab Helper Notebook
Note: Do NOT hardcode tokens here. Use Colab secrets or environment variables.
"""

from textwrap import dedent
print(dedent("""
This helper notebook no longer contains secrets.
To use in Colab:
1) Set your HF token securely: os.environ['HF_TOKEN'] = input('Enter HF token: ')
2) pip install -r requirements.txt
3) Run: !python gpu_gan_training.py
"""))